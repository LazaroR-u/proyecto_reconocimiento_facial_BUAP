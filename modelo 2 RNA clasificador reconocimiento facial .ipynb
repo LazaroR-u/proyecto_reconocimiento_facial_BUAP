{
 "cells": [
  {
   "cell_type": "markdown",
   "id": "c9b39853",
   "metadata": {},
   "source": [
    "# Modelo clasificador de reconocimiento facial\n",
    "Lázaro R. Díaz Lievano."
   ]
  },
  {
   "cell_type": "markdown",
   "id": "5a61f86b",
   "metadata": {},
   "source": [
    "## importancion de paqueterias "
   ]
  },
  {
   "cell_type": "code",
   "execution_count": 35,
   "id": "0ebaa9f6",
   "metadata": {},
   "outputs": [],
   "source": [
    "import tensorflow as tf\n",
    "import pandas as pd\n",
    "import numpy as np\n",
    "import matplotlib.pyplot as plt\n",
    "import keras\n",
    "from keras import layers, models\n",
    "from keras.models import Sequential\n",
    "from keras.layers import Dense,Conv2D, Dropout,Activation,MaxPooling2D,Flatten\n",
    "from tensorflow.keras.optimizers import RMSprop, SGD\n",
    "from keras.preprocessing.image import ImageDataGenerator\n",
    "from keras.applications.imagenet_utils import preprocess_input\n",
    "from keras.preprocessing import image\n",
    "from tensorflow.keras.utils import load_img\n",
    "import os"
   ]
  },
  {
   "cell_type": "markdown",
   "id": "5b90af52",
   "metadata": {},
   "source": [
    "## Carga de datos de entrenamiento, validacion y prueba"
   ]
  },
  {
   "cell_type": "markdown",
   "id": "c62f0744",
   "metadata": {},
   "source": [
    "Aqui indicamos las carpetas en donde se encuentran las imagenes que usaremos en el modelo. Tanto los conjuntos de Train como Validation contienen a su vez dos carpetas: una con fotos mias y otra con fotos de otras personas que fueron tomadas de la base de datos de CelebA. Por su parte, el conjunto de test contiene una carpeta con imagenes mezcladas mias y de otras personas, dado que con este conjunto de prueba será con el que evaluemos el modelo."
   ]
  },
  {
   "cell_type": "code",
   "execution_count": 10,
   "id": "93dc9e43",
   "metadata": {},
   "outputs": [],
   "source": [
    "train_dir = r'C:/Users/Lazaro Diaz/RNA_otono2022/Reconocimiento facial/train' #directorio de entrenamiento\n",
    "val_dir =  r'C:/Users/Lazaro Diaz/RNA_otono2022/Reconocimiento facial/val'\n",
    "test_dir = r'C:/Users/Lazaro Diaz/RNA_otono2022/Reconocimiento facial/test' #directorio de prueba\n",
    "\n"
   ]
  },
  {
   "cell_type": "markdown",
   "id": "43b3074b",
   "metadata": {},
   "source": [
    "## Generación de imagenes nuevas"
   ]
  },
  {
   "cell_type": "markdown",
   "id": "3af546b8",
   "metadata": {},
   "source": [
    "Usaremos el operador ImageDataGenerator para aplicarle transformaciones a nuestras imagenes, como normalizar las intensidades de los tonos, rotaciones y redimensionar el tamaño de las imagenes con el fin de obtener datos uniformes y más fáciles de analizar para la red."
   ]
  },
  {
   "cell_type": "markdown",
   "id": "6bc521c1",
   "metadata": {},
   "source": [
    "transformacion de imagenes con ImageDataGenerator. Se intentó de 2 formas distintas. "
   ]
  },
  {
   "cell_type": "markdown",
   "id": "a24a2cfc",
   "metadata": {},
   "source": [
    "### 1. Creando imagenes para el conjunto train y guardandolas en disco."
   ]
  },
  {
   "cell_type": "code",
   "execution_count": 184,
   "id": "d985270e",
   "metadata": {
    "scrolled": true
   },
   "outputs": [
    {
     "name": "stdout",
     "output_type": "stream",
     "text": [
      "\n"
     ]
    },
    {
     "ename": "NotFoundError",
     "evalue": "Could not find directory C:/Users/Lazaro Diaz/RNA_otono2022/Reconocimiento facial/train/Lazaro/0001.jpeg",
     "output_type": "error",
     "traceback": [
      "\u001b[1;31m---------------------------------------------------------------------------\u001b[0m",
      "\u001b[1;31mNotFoundError\u001b[0m                             Traceback (most recent call last)",
      "Input \u001b[1;32mIn [184]\u001b[0m, in \u001b[0;36m<cell line: 28>\u001b[1;34m()\u001b[0m\n\u001b[0;32m     29\u001b[0m img_list\u001b[38;5;241m=\u001b[39mos\u001b[38;5;241m.\u001b[39mlistdir(train_lazaro_dir)\n\u001b[0;32m     31\u001b[0m img_path \u001b[38;5;241m=\u001b[39m train_lazaro_dir\u001b[38;5;241m+\u001b[39m\u001b[38;5;124m'\u001b[39m\u001b[38;5;124m/\u001b[39m\u001b[38;5;124m'\u001b[39m\u001b[38;5;241m+\u001b[39mimage_file \u001b[38;5;66;03m#directorio de cada imagen dentro de la carpeta \"Lazaro\"\u001b[39;00m\n\u001b[1;32m---> 33\u001b[0m imge\u001b[38;5;241m=\u001b[39m\u001b[43mtf\u001b[49m\u001b[38;5;241;43m.\u001b[39;49m\u001b[43mkeras\u001b[49m\u001b[38;5;241;43m.\u001b[39;49m\u001b[43mutils\u001b[49m\u001b[38;5;241;43m.\u001b[39;49m\u001b[43mimage_dataset_from_directory\u001b[49m\u001b[43m(\u001b[49m\u001b[43mimg_path\u001b[49m\u001b[43m)\u001b[49m \u001b[38;5;66;03m#lectura de imagen \u001b[39;00m\n\u001b[0;32m     35\u001b[0m imge\u001b[38;5;241m=\u001b[39mtf\u001b[38;5;241m.\u001b[39mimage\u001b[38;5;241m.\u001b[39mresize(tf\u001b[38;5;241m.\u001b[39mkeras\u001b[38;5;241m.\u001b[39mutils\u001b[38;5;241m.\u001b[39mimg_to_array(imge), (iw, ih))  \u001b[38;5;66;03m#redimension la imagen a (192, 192) y pasarla a un array\u001b[39;00m\n\u001b[0;32m     38\u001b[0m x\u001b[38;5;241m=\u001b[39mimge\u001b[38;5;241m/\u001b[39m\u001b[38;5;241m255.\u001b[39m \u001b[38;5;66;03m#normalizacion\u001b[39;00m\n",
      "File \u001b[1;32m~\\anaconda3\\lib\\site-packages\\keras\\utils\\image_dataset.py:207\u001b[0m, in \u001b[0;36mimage_dataset_from_directory\u001b[1;34m(directory, labels, label_mode, class_names, color_mode, batch_size, image_size, shuffle, seed, validation_split, subset, interpolation, follow_links, crop_to_aspect_ratio, **kwargs)\u001b[0m\n\u001b[0;32m    205\u001b[0m \u001b[38;5;28;01mif\u001b[39;00m seed \u001b[38;5;129;01mis\u001b[39;00m \u001b[38;5;28;01mNone\u001b[39;00m:\n\u001b[0;32m    206\u001b[0m     seed \u001b[38;5;241m=\u001b[39m np\u001b[38;5;241m.\u001b[39mrandom\u001b[38;5;241m.\u001b[39mrandint(\u001b[38;5;241m1e6\u001b[39m)\n\u001b[1;32m--> 207\u001b[0m image_paths, labels, class_names \u001b[38;5;241m=\u001b[39m \u001b[43mdataset_utils\u001b[49m\u001b[38;5;241;43m.\u001b[39;49m\u001b[43mindex_directory\u001b[49m\u001b[43m(\u001b[49m\n\u001b[0;32m    208\u001b[0m \u001b[43m    \u001b[49m\u001b[43mdirectory\u001b[49m\u001b[43m,\u001b[49m\n\u001b[0;32m    209\u001b[0m \u001b[43m    \u001b[49m\u001b[43mlabels\u001b[49m\u001b[43m,\u001b[49m\n\u001b[0;32m    210\u001b[0m \u001b[43m    \u001b[49m\u001b[43mformats\u001b[49m\u001b[38;5;241;43m=\u001b[39;49m\u001b[43mALLOWLIST_FORMATS\u001b[49m\u001b[43m,\u001b[49m\n\u001b[0;32m    211\u001b[0m \u001b[43m    \u001b[49m\u001b[43mclass_names\u001b[49m\u001b[38;5;241;43m=\u001b[39;49m\u001b[43mclass_names\u001b[49m\u001b[43m,\u001b[49m\n\u001b[0;32m    212\u001b[0m \u001b[43m    \u001b[49m\u001b[43mshuffle\u001b[49m\u001b[38;5;241;43m=\u001b[39;49m\u001b[43mshuffle\u001b[49m\u001b[43m,\u001b[49m\n\u001b[0;32m    213\u001b[0m \u001b[43m    \u001b[49m\u001b[43mseed\u001b[49m\u001b[38;5;241;43m=\u001b[39;49m\u001b[43mseed\u001b[49m\u001b[43m,\u001b[49m\n\u001b[0;32m    214\u001b[0m \u001b[43m    \u001b[49m\u001b[43mfollow_links\u001b[49m\u001b[38;5;241;43m=\u001b[39;49m\u001b[43mfollow_links\u001b[49m\u001b[43m,\u001b[49m\n\u001b[0;32m    215\u001b[0m \u001b[43m\u001b[49m\u001b[43m)\u001b[49m\n\u001b[0;32m    217\u001b[0m \u001b[38;5;28;01mif\u001b[39;00m label_mode \u001b[38;5;241m==\u001b[39m \u001b[38;5;124m\"\u001b[39m\u001b[38;5;124mbinary\u001b[39m\u001b[38;5;124m\"\u001b[39m \u001b[38;5;129;01mand\u001b[39;00m \u001b[38;5;28mlen\u001b[39m(class_names) \u001b[38;5;241m!=\u001b[39m \u001b[38;5;241m2\u001b[39m:\n\u001b[0;32m    218\u001b[0m     \u001b[38;5;28;01mraise\u001b[39;00m \u001b[38;5;167;01mValueError\u001b[39;00m(\n\u001b[0;32m    219\u001b[0m         \u001b[38;5;124mf\u001b[39m\u001b[38;5;124m'\u001b[39m\u001b[38;5;124mWhen passing `label_mode=\u001b[39m\u001b[38;5;124m\"\u001b[39m\u001b[38;5;124mbinary\u001b[39m\u001b[38;5;124m\"\u001b[39m\u001b[38;5;124m`, there must be exactly 2 \u001b[39m\u001b[38;5;124m'\u001b[39m\n\u001b[0;32m    220\u001b[0m         \u001b[38;5;124mf\u001b[39m\u001b[38;5;124m\"\u001b[39m\u001b[38;5;124mclass_names. Received: class_names=\u001b[39m\u001b[38;5;132;01m{\u001b[39;00mclass_names\u001b[38;5;132;01m}\u001b[39;00m\u001b[38;5;124m\"\u001b[39m\n\u001b[0;32m    221\u001b[0m     )\n",
      "File \u001b[1;32m~\\anaconda3\\lib\\site-packages\\keras\\utils\\dataset_utils.py:524\u001b[0m, in \u001b[0;36mindex_directory\u001b[1;34m(directory, labels, formats, class_names, shuffle, seed, follow_links)\u001b[0m\n\u001b[0;32m    522\u001b[0m \u001b[38;5;28;01melse\u001b[39;00m:\n\u001b[0;32m    523\u001b[0m     subdirs \u001b[38;5;241m=\u001b[39m []\n\u001b[1;32m--> 524\u001b[0m     \u001b[38;5;28;01mfor\u001b[39;00m subdir \u001b[38;5;129;01min\u001b[39;00m \u001b[38;5;28msorted\u001b[39m(\u001b[43mtf\u001b[49m\u001b[38;5;241;43m.\u001b[39;49m\u001b[43mio\u001b[49m\u001b[38;5;241;43m.\u001b[39;49m\u001b[43mgfile\u001b[49m\u001b[38;5;241;43m.\u001b[39;49m\u001b[43mlistdir\u001b[49m\u001b[43m(\u001b[49m\u001b[43mdirectory\u001b[49m\u001b[43m)\u001b[49m):\n\u001b[0;32m    525\u001b[0m         \u001b[38;5;28;01mif\u001b[39;00m tf\u001b[38;5;241m.\u001b[39mio\u001b[38;5;241m.\u001b[39mgfile\u001b[38;5;241m.\u001b[39misdir(tf\u001b[38;5;241m.\u001b[39mio\u001b[38;5;241m.\u001b[39mgfile\u001b[38;5;241m.\u001b[39mjoin(directory, subdir)):\n\u001b[0;32m    526\u001b[0m             \u001b[38;5;28;01mif\u001b[39;00m subdir\u001b[38;5;241m.\u001b[39mendswith(\u001b[38;5;124m\"\u001b[39m\u001b[38;5;124m/\u001b[39m\u001b[38;5;124m\"\u001b[39m):\n",
      "File \u001b[1;32m~\\anaconda3\\lib\\site-packages\\tensorflow\\python\\lib\\io\\file_io.py:766\u001b[0m, in \u001b[0;36mlist_directory_v2\u001b[1;34m(path)\u001b[0m\n\u001b[0;32m    751\u001b[0m \u001b[38;5;124;03m\"\"\"Returns a list of entries contained within a directory.\u001b[39;00m\n\u001b[0;32m    752\u001b[0m \n\u001b[0;32m    753\u001b[0m \u001b[38;5;124;03mThe list is in arbitrary order. It does not contain the special entries \".\"\u001b[39;00m\n\u001b[1;32m   (...)\u001b[0m\n\u001b[0;32m    763\u001b[0m \u001b[38;5;124;03m  errors.NotFoundError if directory doesn't exist\u001b[39;00m\n\u001b[0;32m    764\u001b[0m \u001b[38;5;124;03m\"\"\"\u001b[39;00m\n\u001b[0;32m    765\u001b[0m \u001b[38;5;28;01mif\u001b[39;00m \u001b[38;5;129;01mnot\u001b[39;00m is_directory(path):\n\u001b[1;32m--> 766\u001b[0m   \u001b[38;5;28;01mraise\u001b[39;00m errors\u001b[38;5;241m.\u001b[39mNotFoundError(\n\u001b[0;32m    767\u001b[0m       node_def\u001b[38;5;241m=\u001b[39m\u001b[38;5;28;01mNone\u001b[39;00m,\n\u001b[0;32m    768\u001b[0m       op\u001b[38;5;241m=\u001b[39m\u001b[38;5;28;01mNone\u001b[39;00m,\n\u001b[0;32m    769\u001b[0m       message\u001b[38;5;241m=\u001b[39m\u001b[38;5;124m\"\u001b[39m\u001b[38;5;124mCould not find directory \u001b[39m\u001b[38;5;132;01m{}\u001b[39;00m\u001b[38;5;124m\"\u001b[39m\u001b[38;5;241m.\u001b[39mformat(path))\n\u001b[0;32m    771\u001b[0m \u001b[38;5;66;03m# Convert each element to string, since the return values of the\u001b[39;00m\n\u001b[0;32m    772\u001b[0m \u001b[38;5;66;03m# vector of string should be interpreted as strings, not bytes.\u001b[39;00m\n\u001b[0;32m    773\u001b[0m \u001b[38;5;28;01mreturn\u001b[39;00m [\n\u001b[0;32m    774\u001b[0m     compat\u001b[38;5;241m.\u001b[39mas_str_any(filename)\n\u001b[0;32m    775\u001b[0m     \u001b[38;5;28;01mfor\u001b[39;00m filename \u001b[38;5;129;01min\u001b[39;00m _pywrap_file_io\u001b[38;5;241m.\u001b[39mGetChildren(compat\u001b[38;5;241m.\u001b[39mpath_to_bytes(path))\n\u001b[0;32m    776\u001b[0m ]\n",
      "\u001b[1;31mNotFoundError\u001b[0m: Could not find directory C:/Users/Lazaro Diaz/RNA_otono2022/Reconocimiento facial/train/Lazaro/0001.jpeg"
     ]
    }
   ],
   "source": [
    "ih = 192\n",
    "iw=  192\n",
    "\n",
    "imagenes_generadas_folder = 'new_imageA'\n",
    "n_imagenes_des = 5\n",
    "\n",
    "try:\n",
    "    os.mkdir(imagenes_generadas_folder)\n",
    "except:\n",
    "    print(\"\")\n",
    "    \n",
    "#hacemos que la generacion de imagenes se base en transformaciones como rotaciones, zoom, desplazamientos y voltear la imagen tipo modo espejo.    \n",
    "train_datagen = ImageDataGenerator(rescale = 1./255., \n",
    "                                   rotation_range=20, \n",
    "                                   zoom_range=0.2,\n",
    "                                   width_shift_range=0.1, \n",
    "                                   height_shift_range=0.1, \n",
    "                                   horizontal_flip=True, \n",
    "                                   vertical_flip=False)\n",
    "\n",
    "train_lazaro_dir = \"C:/Users/Lazaro Diaz/RNA_otono2022/Reconocimiento facial/train/Lazaro\"\n",
    "data_dir_list = os.listdir(train_lazaro_dir)\n",
    "\n",
    "i=0\n",
    "num_images=0\n",
    "\n",
    "\n",
    "for image_file in data_dir_list:\n",
    "    img_list=os.listdir(train_lazaro_dir)\n",
    "\n",
    "    img_path = train_lazaro_dir+'/'+image_file #directorio de cada imagen dentro de la carpeta \"Lazaro\"\n",
    "    \n",
    "    imge=tf.keras.utils.image_dataset_from_directory(img_path) #lectura de imagen \n",
    "    \n",
    "    imge=tf.image.resize(tf.keras.utils.img_to_array(imge), (iw, ih))  #redimension la imagen a (192, 192) y pasarla a un array\n",
    "    \n",
    "  \n",
    "    x=imge/255. #normalizacion\n",
    "    \n",
    "    x=np.expand_dims(x, axis=0)\n",
    "    m=1\n",
    "    for output_batch in train_datagen.flow(x, batch_size=1):\n",
    "        a=tf.keras.utils.img_to_array(output_batch[0])  #transforma cada imagen a un array\n",
    "        img=output_batch[0,:,:]*255. #desnormaliza\n",
    "        img_gen = cv2.cvtColor(img, cv2.COLOR_RGB2BGR) #lo pasamos a color RGB\n",
    "        cv2.imwrite(imagenes_generadas_folder+\"/%i%i.jpeg\"%(i,t), imagen_gen) #se usa para guardar la imagen generada\n",
    "        #cv2.imwrite(directorio, imagen)\n",
    "        m+=1\n",
    "        \n",
    "        num_images+=1\n",
    "        if m>n_imagenes_des:\n",
    "            break\n",
    "    i+=1\n",
    "    \n",
    "print(\"imagenes generadas: \", num_images)"
   ]
  },
  {
   "cell_type": "markdown",
   "id": "73dbb784",
   "metadata": {},
   "source": [
    "En este caso, no entiendo por qué me da este error dado que este directorio sí existe y corresponde a la primera imagen de mi rostro."
   ]
  },
  {
   "cell_type": "code",
   "execution_count": null,
   "id": "9cdb9218",
   "metadata": {},
   "outputs": [],
   "source": []
  },
  {
   "cell_type": "markdown",
   "id": "dc9ba643",
   "metadata": {},
   "source": [
    "### 2. Creando imagenes conforme se entrena la red."
   ]
  },
  {
   "cell_type": "markdown",
   "id": "38f3f20b",
   "metadata": {},
   "source": [
    "Generacion de imagenes nuevas con imageDataGenerator\n",
    "\n",
    "Con el método flow_from_directory() podemos leer las imágenes directamente desde el directorio y transformarlas mientras el modelo esta entrenando."
   ]
  },
  {
   "cell_type": "code",
   "execution_count": 167,
   "id": "1a354445",
   "metadata": {},
   "outputs": [],
   "source": [
    "#fijamos unos parametros\n",
    "num_class = 2   #cuantas clases\n",
    "epochs = 100   #cuantas veces entrenar. En cada epoch hace una mejora en los parametros\n",
    "batch_size = 20   #batch para hacer cada entrenamiento. Lee 20 'batch_size' imagenes antes de actualizar los parametros. Las carga a memoria\n",
    "num_train = 143   #numero de imagenes en train\n",
    "num_val = 27\n",
    "num_test = 36   #numero de imagenes en test\n",
    "iw, ih = 192,192"
   ]
  },
  {
   "cell_type": "code",
   "execution_count": 168,
   "id": "f43780d7",
   "metadata": {},
   "outputs": [
    {
     "name": "stdout",
     "output_type": "stream",
     "text": [
      "Found 143 images belonging to 2 classes.\n",
      "Found 27 images belonging to 2 classes.\n",
      "Found 36 images belonging to 1 classes.\n"
     ]
    }
   ],
   "source": [
    "#en este caso los directorios estan de más, dado que ya se definieron arriba, pero sirve para visualizar lo que se hace.\n",
    "train_d = r\"C:/Users/Lazaro Diaz/RNA_otono2022/Reconocimiento facial/train\"\n",
    "val_d = r\"C:/Users/Lazaro Diaz/RNA_otono2022/Reconocimiento facial/val\"\n",
    "test_d = r\"C:/Users/Lazaro Diaz/RNA_otono2022/Reconocimiento facial/test\"\n",
    "   \n",
    "#tipos de transformaciones en las que se basa la generacion de imagenes\n",
    "\n",
    "train_datagen = ImageDataGenerator(rescale = 1./255.,\n",
    "                                   rotation_range=30,\n",
    "                                   zoom_range=0.15,\n",
    "                                   width_shift_range=0.1, \n",
    "                                   height_shift_range=0.1, \n",
    "                                   horizontal_flip=True, \n",
    "                                   vertical_flip=False \n",
    "                                   )\n",
    "\n",
    "val_datagen = ImageDataGenerator(rescale = 1./255.)\n",
    "\n",
    "\n",
    "\n",
    "train_generator = train_datagen.flow_from_directory(\n",
    "    train_d,\n",
    "    target_size=(iw, ih),\n",
    "    batch_size=batch_size,\n",
    "    class_mode='binary')\n",
    "\n",
    "val_generator = val_datagen.flow_from_directory(\n",
    "    val_d,\n",
    "    target_size=(iw, ih),\n",
    "    batch_size=batch_size,\n",
    "    class_mode='binary')\n",
    "\n",
    "test = val_datagen.flow_from_directory(\n",
    "    test_d,\n",
    "    target_size=(iw, ih),\n",
    "    batch_size=batch_size,\n",
    "    class_mode='binary')"
   ]
  },
  {
   "cell_type": "code",
   "execution_count": 169,
   "id": "961fffd6",
   "metadata": {},
   "outputs": [],
   "source": [
    "epoch_steps = num_train // batch_size\n",
    "val_steps = num_val // batch_size\n",
    "test_steps = num_test // batch_size"
   ]
  },
  {
   "cell_type": "markdown",
   "id": "80becc38",
   "metadata": {},
   "source": [
    "Dado que este metodo usando flow_from_directory funciona, entrenaremos el modelo con estos datos."
   ]
  },
  {
   "cell_type": "markdown",
   "id": "a5881f8e",
   "metadata": {},
   "source": [
    "## Cargado del modelo pre-entrenado que identifica atributos en imagenes de rostros."
   ]
  },
  {
   "cell_type": "markdown",
   "id": "7ff249a0",
   "metadata": {},
   "source": [
    "La esencia de este modelo es que yo no tengo suficientes fotos mias como para entrenar el modelo eficientemente desde cero, asi que se entrenó el modelo 1: identificador de atributos en imagenes para que pudiera identificar atributos en imagenes de rostros y una vez que el modelo ya puede identificar ciertas características en un rostro, ahora sí puedo entrenarlo con fotos mías, esta técnica es conocida como **Transfer Learning**, se entrena un modelo inicialmente con una base de datos amplia y una vez entrenado podemos darle nuevos datos y que aprenda a reconocerlos."
   ]
  },
  {
   "cell_type": "code",
   "execution_count": 170,
   "id": "affe007c",
   "metadata": {},
   "outputs": [
    {
     "name": "stdout",
     "output_type": "stream",
     "text": [
      "Model: \"sequential\"\n",
      "_________________________________________________________________\n",
      " Layer (type)                Output Shape              Param #   \n",
      "=================================================================\n",
      " conv2d (Conv2D)             (None, 190, 190, 40)      1120      \n",
      "                                                                 \n",
      " activation (Activation)     (None, 190, 190, 40)      0         \n",
      "                                                                 \n",
      " max_pooling2d (MaxPooling2D  (None, 95, 95, 40)       0         \n",
      " )                                                               \n",
      "                                                                 \n",
      " conv2d_1 (Conv2D)           (None, 93, 93, 80)        28880     \n",
      "                                                                 \n",
      " activation_1 (Activation)   (None, 93, 93, 80)        0         \n",
      "                                                                 \n",
      " max_pooling2d_1 (MaxPooling  (None, 46, 46, 80)       0         \n",
      " 2D)                                                             \n",
      "                                                                 \n",
      " conv2d_2 (Conv2D)           (None, 44, 44, 120)       86520     \n",
      "                                                                 \n",
      " activation_2 (Activation)   (None, 44, 44, 120)       0         \n",
      "                                                                 \n",
      " max_pooling2d_2 (MaxPooling  (None, 22, 22, 120)      0         \n",
      " 2D)                                                             \n",
      "                                                                 \n",
      " flatten (Flatten)           (None, 58080)             0         \n",
      "                                                                 \n",
      " dense (Dense)               (None, 64)                3717184   \n",
      "                                                                 \n",
      " activation_3 (Activation)   (None, 64)                0         \n",
      "                                                                 \n",
      " dropout (Dropout)           (None, 64)                0         \n",
      "                                                                 \n",
      " dense_1 (Dense)             (None, 40)                2600      \n",
      "                                                                 \n",
      " activation_4 (Activation)   (None, 40)                0         \n",
      "                                                                 \n",
      "=================================================================\n",
      "Total params: 3,836,304\n",
      "Trainable params: 3,836,304\n",
      "Non-trainable params: 0\n",
      "_________________________________________________________________\n"
     ]
    }
   ],
   "source": [
    "from keras.models import load_model\n",
    "\n",
    "path_model = 'C:/Users/Lazaro Diaz/RNA_otono2022/Reconocimiento facial/rna_attrib.h5'\n",
    "\n",
    "pre_trained_model = load_model(path_model)\n",
    "pre_trained_model.summary()"
   ]
  },
  {
   "cell_type": "markdown",
   "id": "7f9a88a3",
   "metadata": {},
   "source": [
    "Las capas que utilizaremos en este nuevo modelo son las capas convolucionales y el flatten, las cuales ya fueron pre entrenadas por lo que ya no es necesario volver a entrenar sus pesos desde cero. \n",
    "Asi, entrenamos la red con los pesos de las capas convolucionales fijas y los unicos pesos que se modifican son las del *clasificador*."
   ]
  },
  {
   "cell_type": "code",
   "execution_count": 171,
   "id": "970f9650",
   "metadata": {},
   "outputs": [
    {
     "data": {
      "text/plain": [
       "[<keras.layers.convolutional.conv2d.Conv2D at 0x20c39c39790>,\n",
       " <keras.layers.core.activation.Activation at 0x20c23702730>,\n",
       " <keras.layers.pooling.max_pooling2d.MaxPooling2D at 0x20c39be62e0>,\n",
       " <keras.layers.convolutional.conv2d.Conv2D at 0x20c236f3580>,\n",
       " <keras.layers.core.activation.Activation at 0x20c38a12c40>,\n",
       " <keras.layers.pooling.max_pooling2d.MaxPooling2D at 0x20c39c58bb0>,\n",
       " <keras.layers.convolutional.conv2d.Conv2D at 0x20c39c5dc40>,\n",
       " <keras.layers.core.activation.Activation at 0x20c39c5d400>,\n",
       " <keras.layers.pooling.max_pooling2d.MaxPooling2D at 0x20c38a12f10>,\n",
       " <keras.layers.reshaping.flatten.Flatten at 0x20c39c5d8e0>]"
      ]
     },
     "execution_count": 171,
     "metadata": {},
     "output_type": "execute_result"
    }
   ],
   "source": [
    "pre_trained_model.layers[:10]"
   ]
  },
  {
   "cell_type": "markdown",
   "id": "38932f9f",
   "metadata": {},
   "source": [
    "## Estructura de la red neuronal clasificadora "
   ]
  },
  {
   "cell_type": "markdown",
   "id": "f1ca4344",
   "metadata": {},
   "source": [
    "Basicamente este modelo se conforma de las capas convolucionales con los pesos ya entrenados del modelo anterior de identificacion de atributos en rostros y se agregaron capas densas que hacen la función del clasificador, cuya funcion es que al entrenar estas ultimas capas puedan clasificar correctamente si en una imagen de rostro soy yo o no."
   ]
  },
  {
   "cell_type": "code",
   "execution_count": 172,
   "id": "dcdf1dce",
   "metadata": {},
   "outputs": [],
   "source": [
    "model = keras.models.Sequential()\n",
    "\n",
    "#capas convolucionales pre entrenadas\n",
    "model.add(pre_trained_model.layers[0])\n",
    "model.add(pre_trained_model.layers[1])\n",
    "model.add(pre_trained_model.layers[2])\n",
    "model.add(pre_trained_model.layers[3])\n",
    "model.add(pre_trained_model.layers[4])\n",
    "model.add(pre_trained_model.layers[5])\n",
    "model.add(pre_trained_model.layers[6])\n",
    "model.add(pre_trained_model.layers[7])\n",
    "model.add(pre_trained_model.layers[8])\n",
    "model.add(pre_trained_model.layers[9])\n",
    "\n",
    "#clasificador\n",
    "model.add(Dense(40))\n",
    "model.add(Activation('relu'))\n",
    "model.add(Dropout(0.4))\n",
    "\n",
    "model.add(Dense(1))\n",
    "model.add(Activation(\"sigmoid\"))\n",
    "\n",
    "#congelamos los pesos de las capas pre entrenadas, es decir, de las redes convolucionales y el flatten.\n",
    "for layer in pre_trained_model.layers[:10]:\n",
    "    layer.trainable = False"
   ]
  },
  {
   "cell_type": "markdown",
   "id": "429939cb",
   "metadata": {},
   "source": [
    "## Entrenamiento del modelo clasificador  "
   ]
  },
  {
   "cell_type": "code",
   "execution_count": 173,
   "id": "b29ebd7f",
   "metadata": {},
   "outputs": [],
   "source": [
    "model.compile(loss='binary_crossentropy',\n",
    "              optimizer=tf.keras.optimizers.Adam(learning_rate=1e-5),\n",
    "              metrics=['accuracy'])"
   ]
  },
  {
   "cell_type": "code",
   "execution_count": 174,
   "id": "5a2c4c36",
   "metadata": {
    "scrolled": true
   },
   "outputs": [
    {
     "name": "stdout",
     "output_type": "stream",
     "text": [
      "Epoch 1/20\n",
      "8/8 [==============================] - 5s 531ms/step - loss: 0.6915 - accuracy: 0.5804 - val_loss: 0.6936 - val_accuracy: 0.6667\n",
      "Epoch 2/20\n",
      "8/8 [==============================] - 4s 497ms/step - loss: 0.6913 - accuracy: 0.5245 - val_loss: 0.6922 - val_accuracy: 0.7037\n",
      "Epoch 3/20\n",
      "8/8 [==============================] - 4s 510ms/step - loss: 0.6896 - accuracy: 0.6014 - val_loss: 0.6908 - val_accuracy: 0.7037\n",
      "Epoch 4/20\n",
      "8/8 [==============================] - 4s 501ms/step - loss: 0.6871 - accuracy: 0.6853 - val_loss: 0.6893 - val_accuracy: 0.7037\n",
      "Epoch 5/20\n",
      "8/8 [==============================] - 4s 502ms/step - loss: 0.6894 - accuracy: 0.5874 - val_loss: 0.6877 - val_accuracy: 0.7407\n",
      "Epoch 6/20\n",
      "8/8 [==============================] - 4s 500ms/step - loss: 0.6871 - accuracy: 0.6503 - val_loss: 0.6859 - val_accuracy: 0.7778\n",
      "Epoch 7/20\n",
      "8/8 [==============================] - 4s 561ms/step - loss: 0.6839 - accuracy: 0.7063 - val_loss: 0.6842 - val_accuracy: 0.8148\n",
      "Epoch 8/20\n",
      "8/8 [==============================] - 4s 484ms/step - loss: 0.6825 - accuracy: 0.7133 - val_loss: 0.6822 - val_accuracy: 0.8148\n",
      "Epoch 9/20\n",
      "8/8 [==============================] - 4s 533ms/step - loss: 0.6834 - accuracy: 0.6923 - val_loss: 0.6803 - val_accuracy: 0.8519\n",
      "Epoch 10/20\n",
      "8/8 [==============================] - 4s 510ms/step - loss: 0.6802 - accuracy: 0.7483 - val_loss: 0.6783 - val_accuracy: 0.8519\n",
      "Epoch 11/20\n",
      "8/8 [==============================] - 4s 498ms/step - loss: 0.6793 - accuracy: 0.7063 - val_loss: 0.6764 - val_accuracy: 0.8519\n",
      "Epoch 12/20\n",
      "8/8 [==============================] - 4s 626ms/step - loss: 0.6784 - accuracy: 0.7622 - val_loss: 0.6743 - val_accuracy: 0.8519\n",
      "Epoch 13/20\n",
      "8/8 [==============================] - 4s 553ms/step - loss: 0.6765 - accuracy: 0.7622 - val_loss: 0.6719 - val_accuracy: 0.8519\n",
      "Epoch 14/20\n",
      "8/8 [==============================] - 4s 542ms/step - loss: 0.6751 - accuracy: 0.7622 - val_loss: 0.6696 - val_accuracy: 0.8889\n",
      "Epoch 15/20\n",
      "8/8 [==============================] - 4s 605ms/step - loss: 0.6710 - accuracy: 0.7902 - val_loss: 0.6672 - val_accuracy: 0.8889\n",
      "Epoch 16/20\n",
      "8/8 [==============================] - 4s 508ms/step - loss: 0.6744 - accuracy: 0.7552 - val_loss: 0.6645 - val_accuracy: 0.8889\n",
      "Epoch 17/20\n",
      "8/8 [==============================] - 4s 491ms/step - loss: 0.6705 - accuracy: 0.7972 - val_loss: 0.6619 - val_accuracy: 0.9259\n",
      "Epoch 18/20\n",
      "8/8 [==============================] - 4s 505ms/step - loss: 0.6694 - accuracy: 0.7972 - val_loss: 0.6592 - val_accuracy: 0.9259\n",
      "Epoch 19/20\n",
      "8/8 [==============================] - 4s 507ms/step - loss: 0.6650 - accuracy: 0.7552 - val_loss: 0.6563 - val_accuracy: 0.9259\n",
      "Epoch 20/20\n",
      "8/8 [==============================] - 4s 499ms/step - loss: 0.6655 - accuracy: 0.7762 - val_loss: 0.6535 - val_accuracy: 0.9259\n"
     ]
    }
   ],
   "source": [
    "model_history = model.fit(\n",
    "    train_generator,\n",
    "    batch_size = batch_size,\n",
    "    epochs = 20,\n",
    "    verbose = 1, \n",
    "    validation_data = val_generator)"
   ]
  },
  {
   "cell_type": "code",
   "execution_count": 177,
   "id": "35e62c9c",
   "metadata": {},
   "outputs": [
    {
     "data": {
      "text/plain": [
       "<matplotlib.legend.Legend at 0x20c36140880>"
      ]
     },
     "execution_count": 177,
     "metadata": {},
     "output_type": "execute_result"
    },
    {
     "data": {
      "image/png": "[encoded data removed]",
      "text/plain": [
       "<Figure size 576x432 with 1 Axes>"
      ]
     },
     "metadata": {
      "needs_background": "light"
     },
     "output_type": "display_data"
    }
   ],
   "source": [
    "plt.plot(model_history.history['accuracy'],'r')  \n",
    "plt.plot(model_history.history['val_accuracy'],'g')  \n",
    "plt.xticks(np.arange(0, 20, 1.0))  \n",
    "plt.rcParams['figure.figsize'] = (8, 6)  \n",
    "plt.xlabel(\"Num of Epochs\")  \n",
    "plt.ylabel(\"Accuracy\")  \n",
    "plt.title(\"Training Accuracy vs Validation Accuracy\")  \n",
    "plt.legend(['train','validation'])"
   ]
  },
  {
   "cell_type": "code",
   "execution_count": 178,
   "id": "d2692781",
   "metadata": {},
   "outputs": [],
   "source": [
    "model.save(\"rna_clasificador_rec_facial.h5\")"
   ]
  },
  {
   "cell_type": "code",
   "execution_count": null,
   "id": "0591027a",
   "metadata": {},
   "outputs": [],
   "source": []
  }
 ],
 "metadata": {
  "kernelspec": {
   "display_name": "Python 3 (ipykernel)",
   "language": "python",
   "name": "python3"
  },
  "language_info": {
   "codemirror_mode": {
    "name": "ipython",
    "version": 3
   },
   "file_extension": ".py",
   "mimetype": "text/x-python",
   "name": "python",
   "nbconvert_exporter": "python",
   "pygments_lexer": "ipython3",
   "version": "3.9.12"
  }
 },
 "nbformat": 4,
 "nbformat_minor": 5
}
